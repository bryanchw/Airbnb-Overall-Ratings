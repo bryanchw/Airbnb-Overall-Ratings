{
 "cells": [
  {
   "cell_type": "markdown",
   "metadata": {},
   "source": [
    "# Introduction"
   ]
  },
  {
   "cell_type": "markdown",
   "metadata": {},
   "source": [
    "Airbnb offers six categories for guests to rate their experience and they are accuracy, cleanliness, check-in, communication, location, and value. In addition to the six categories, however, guests give an overall rating to Airbnb hosts. Since the overall rating isn't calculated based on the six categories, this notebook will take a closer look at each category in San Francisco, Seattle, and New York City and explore which category has a larger influence on the overall score. "
   ]
  },
  {
   "cell_type": "code",
   "execution_count": 1,
   "metadata": {},
   "outputs": [
    {
     "data": {
      "text/html": [
       "<style>.container { width:100% !important; }</style>"
      ],
      "text/plain": [
       "<IPython.core.display.HTML object>"
      ]
     },
     "metadata": {},
     "output_type": "display_data"
    }
   ],
   "source": [
    "from IPython.core.display import display, HTML\n",
    "display(HTML(\"<style>.container { width:100% !important; }</style>\"))"
   ]
  },
  {
   "cell_type": "code",
   "execution_count": 2,
   "metadata": {},
   "outputs": [],
   "source": [
    "import pandas as pd\n",
    "from tqdm import tqdm\n",
    "from sklearn.linear_model import LinearRegression\n",
    "from matplotlib import pyplot\n",
    "from sklearn.feature_selection import SelectKBest\n",
    "from sklearn.feature_selection import chi2\n",
    "from sklearn.ensemble import ExtraTreesClassifier"
   ]
  },
  {
   "cell_type": "code",
   "execution_count": 3,
   "metadata": {},
   "outputs": [
    {
     "data": {
      "application/javascript": [
       "\n",
       "            setTimeout(function() {\n",
       "                var nbb_cell_id = 3;\n",
       "                var nbb_unformatted_code = \"# code formatter\\n%load_ext nb_black\";\n",
       "                var nbb_formatted_code = \"# code formatter\\n%load_ext nb_black\";\n",
       "                var nbb_cells = Jupyter.notebook.get_cells();\n",
       "                for (var i = 0; i < nbb_cells.length; ++i) {\n",
       "                    if (nbb_cells[i].input_prompt_number == nbb_cell_id) {\n",
       "                        if (nbb_cells[i].get_text() == nbb_unformatted_code) {\n",
       "                             nbb_cells[i].set_text(nbb_formatted_code);\n",
       "                        }\n",
       "                        break;\n",
       "                    }\n",
       "                }\n",
       "            }, 500);\n",
       "            "
      ],
      "text/plain": [
       "<IPython.core.display.Javascript object>"
      ]
     },
     "metadata": {},
     "output_type": "display_data"
    }
   ],
   "source": [
    "# code formatter\n",
    "%load_ext nb_black"
   ]
  },
  {
   "cell_type": "code",
   "execution_count": 4,
   "metadata": {},
   "outputs": [
    {
     "data": {
      "application/javascript": [
       "\n",
       "            setTimeout(function() {\n",
       "                var nbb_cell_id = 4;\n",
       "                var nbb_unformatted_code = \"# read data files\\nlisting_df_sf = pd.read_csv('Data/SF/listings.csv.gz', sep=',', compression='gzip')\\nlisting_df_sea = pd.read_csv('Data/Seattle/listings.csv.gz', sep=',', compression='gzip') \\nlisting_df_nyc = pd.read_csv('Data/NYC/listings.csv.gz', sep=',', compression='gzip') \";\n",
       "                var nbb_formatted_code = \"# read data files\\nlisting_df_sf = pd.read_csv(\\\"Data/SF/listings.csv.gz\\\", sep=\\\",\\\", compression=\\\"gzip\\\")\\nlisting_df_sea = pd.read_csv(\\n    \\\"Data/Seattle/listings.csv.gz\\\", sep=\\\",\\\", compression=\\\"gzip\\\"\\n)\\nlisting_df_nyc = pd.read_csv(\\\"Data/NYC/listings.csv.gz\\\", sep=\\\",\\\", compression=\\\"gzip\\\")\";\n",
       "                var nbb_cells = Jupyter.notebook.get_cells();\n",
       "                for (var i = 0; i < nbb_cells.length; ++i) {\n",
       "                    if (nbb_cells[i].input_prompt_number == nbb_cell_id) {\n",
       "                        if (nbb_cells[i].get_text() == nbb_unformatted_code) {\n",
       "                             nbb_cells[i].set_text(nbb_formatted_code);\n",
       "                        }\n",
       "                        break;\n",
       "                    }\n",
       "                }\n",
       "            }, 500);\n",
       "            "
      ],
      "text/plain": [
       "<IPython.core.display.Javascript object>"
      ]
     },
     "metadata": {},
     "output_type": "display_data"
    }
   ],
   "source": [
    "# read data files\n",
    "listing_df_sf = pd.read_csv('Data/SF/listings.csv.gz', sep=',', compression='gzip')\n",
    "listing_df_sea = pd.read_csv('Data/Seattle/listings.csv.gz', sep=',', compression='gzip') \n",
    "listing_df_nyc = pd.read_csv('Data/NYC/listings.csv.gz', sep=',', compression='gzip') "
   ]
  },
  {
   "cell_type": "markdown",
   "metadata": {},
   "source": [
    "# Data preprocessing"
   ]
  },
  {
   "cell_type": "code",
   "execution_count": 5,
   "metadata": {},
   "outputs": [
    {
     "data": {
      "application/javascript": [
       "\n",
       "            setTimeout(function() {\n",
       "                var nbb_cell_id = 5;\n",
       "                var nbb_unformatted_code = \"# select corresponding columns\\ncategory_df_sf = listing_df_sf[['review_scores_rating','review_scores_accuracy','review_scores_cleanliness','review_scores_checkin','review_scores_communication','review_scores_location','review_scores_value']]\\ncategory_df_sea = listing_df_sea[['review_scores_rating','review_scores_accuracy','review_scores_cleanliness','review_scores_checkin','review_scores_communication','review_scores_location','review_scores_value']]\\ncategory_df_nyc = listing_df_nyc[['review_scores_rating','review_scores_accuracy','review_scores_cleanliness','review_scores_checkin','review_scores_communication','review_scores_location','review_scores_value']]\";\n",
       "                var nbb_formatted_code = \"# select corresponding columns\\ncategory_df_sf = listing_df_sf[\\n    [\\n        \\\"review_scores_rating\\\",\\n        \\\"review_scores_accuracy\\\",\\n        \\\"review_scores_cleanliness\\\",\\n        \\\"review_scores_checkin\\\",\\n        \\\"review_scores_communication\\\",\\n        \\\"review_scores_location\\\",\\n        \\\"review_scores_value\\\",\\n    ]\\n]\\ncategory_df_sea = listing_df_sea[\\n    [\\n        \\\"review_scores_rating\\\",\\n        \\\"review_scores_accuracy\\\",\\n        \\\"review_scores_cleanliness\\\",\\n        \\\"review_scores_checkin\\\",\\n        \\\"review_scores_communication\\\",\\n        \\\"review_scores_location\\\",\\n        \\\"review_scores_value\\\",\\n    ]\\n]\\ncategory_df_nyc = listing_df_nyc[\\n    [\\n        \\\"review_scores_rating\\\",\\n        \\\"review_scores_accuracy\\\",\\n        \\\"review_scores_cleanliness\\\",\\n        \\\"review_scores_checkin\\\",\\n        \\\"review_scores_communication\\\",\\n        \\\"review_scores_location\\\",\\n        \\\"review_scores_value\\\",\\n    ]\\n]\";\n",
       "                var nbb_cells = Jupyter.notebook.get_cells();\n",
       "                for (var i = 0; i < nbb_cells.length; ++i) {\n",
       "                    if (nbb_cells[i].input_prompt_number == nbb_cell_id) {\n",
       "                        if (nbb_cells[i].get_text() == nbb_unformatted_code) {\n",
       "                             nbb_cells[i].set_text(nbb_formatted_code);\n",
       "                        }\n",
       "                        break;\n",
       "                    }\n",
       "                }\n",
       "            }, 500);\n",
       "            "
      ],
      "text/plain": [
       "<IPython.core.display.Javascript object>"
      ]
     },
     "metadata": {},
     "output_type": "display_data"
    }
   ],
   "source": [
    "# select corresponding columns\n",
    "category_df_sf = listing_df_sf[['review_scores_rating','review_scores_accuracy','review_scores_cleanliness','review_scores_checkin','review_scores_communication','review_scores_location','review_scores_value']]\n",
    "category_df_sea = listing_df_sea[['review_scores_rating','review_scores_accuracy','review_scores_cleanliness','review_scores_checkin','review_scores_communication','review_scores_location','review_scores_value']]\n",
    "category_df_nyc = listing_df_nyc[['review_scores_rating','review_scores_accuracy','review_scores_cleanliness','review_scores_checkin','review_scores_communication','review_scores_location','review_scores_value']]"
   ]
  },
  {
   "cell_type": "code",
   "execution_count": 6,
   "metadata": {},
   "outputs": [
    {
     "data": {
      "text/html": [
       "<div>\n",
       "<style scoped>\n",
       "    .dataframe tbody tr th:only-of-type {\n",
       "        vertical-align: middle;\n",
       "    }\n",
       "\n",
       "    .dataframe tbody tr th {\n",
       "        vertical-align: top;\n",
       "    }\n",
       "\n",
       "    .dataframe thead th {\n",
       "        text-align: right;\n",
       "    }\n",
       "</style>\n",
       "<table border=\"1\" class=\"dataframe\">\n",
       "  <thead>\n",
       "    <tr style=\"text-align: right;\">\n",
       "      <th></th>\n",
       "      <th>review_scores_rating</th>\n",
       "      <th>review_scores_accuracy</th>\n",
       "      <th>review_scores_cleanliness</th>\n",
       "      <th>review_scores_checkin</th>\n",
       "      <th>review_scores_communication</th>\n",
       "      <th>review_scores_location</th>\n",
       "      <th>review_scores_value</th>\n",
       "    </tr>\n",
       "  </thead>\n",
       "  <tbody>\n",
       "    <tr>\n",
       "      <th>0</th>\n",
       "      <td>94.0</td>\n",
       "      <td>9.0</td>\n",
       "      <td>9.0</td>\n",
       "      <td>10.0</td>\n",
       "      <td>10.0</td>\n",
       "      <td>10.0</td>\n",
       "      <td>9.0</td>\n",
       "    </tr>\n",
       "    <tr>\n",
       "      <th>1</th>\n",
       "      <td>89.0</td>\n",
       "      <td>10.0</td>\n",
       "      <td>9.0</td>\n",
       "      <td>9.0</td>\n",
       "      <td>10.0</td>\n",
       "      <td>10.0</td>\n",
       "      <td>10.0</td>\n",
       "    </tr>\n",
       "    <tr>\n",
       "      <th>2</th>\n",
       "      <td>90.0</td>\n",
       "      <td>8.0</td>\n",
       "      <td>8.0</td>\n",
       "      <td>10.0</td>\n",
       "      <td>10.0</td>\n",
       "      <td>9.0</td>\n",
       "      <td>9.0</td>\n",
       "    </tr>\n",
       "    <tr>\n",
       "      <th>3</th>\n",
       "      <td>97.0</td>\n",
       "      <td>10.0</td>\n",
       "      <td>10.0</td>\n",
       "      <td>10.0</td>\n",
       "      <td>10.0</td>\n",
       "      <td>8.0</td>\n",
       "      <td>10.0</td>\n",
       "    </tr>\n",
       "    <tr>\n",
       "      <th>4</th>\n",
       "      <td>84.0</td>\n",
       "      <td>9.0</td>\n",
       "      <td>8.0</td>\n",
       "      <td>9.0</td>\n",
       "      <td>9.0</td>\n",
       "      <td>10.0</td>\n",
       "      <td>9.0</td>\n",
       "    </tr>\n",
       "    <tr>\n",
       "      <th>...</th>\n",
       "      <td>...</td>\n",
       "      <td>...</td>\n",
       "      <td>...</td>\n",
       "      <td>...</td>\n",
       "      <td>...</td>\n",
       "      <td>...</td>\n",
       "      <td>...</td>\n",
       "    </tr>\n",
       "    <tr>\n",
       "      <th>36900</th>\n",
       "      <td>NaN</td>\n",
       "      <td>NaN</td>\n",
       "      <td>NaN</td>\n",
       "      <td>NaN</td>\n",
       "      <td>NaN</td>\n",
       "      <td>NaN</td>\n",
       "      <td>NaN</td>\n",
       "    </tr>\n",
       "    <tr>\n",
       "      <th>36901</th>\n",
       "      <td>NaN</td>\n",
       "      <td>NaN</td>\n",
       "      <td>NaN</td>\n",
       "      <td>NaN</td>\n",
       "      <td>NaN</td>\n",
       "      <td>NaN</td>\n",
       "      <td>NaN</td>\n",
       "    </tr>\n",
       "    <tr>\n",
       "      <th>36902</th>\n",
       "      <td>NaN</td>\n",
       "      <td>NaN</td>\n",
       "      <td>NaN</td>\n",
       "      <td>NaN</td>\n",
       "      <td>NaN</td>\n",
       "      <td>NaN</td>\n",
       "      <td>NaN</td>\n",
       "    </tr>\n",
       "    <tr>\n",
       "      <th>36903</th>\n",
       "      <td>NaN</td>\n",
       "      <td>NaN</td>\n",
       "      <td>NaN</td>\n",
       "      <td>NaN</td>\n",
       "      <td>NaN</td>\n",
       "      <td>NaN</td>\n",
       "      <td>NaN</td>\n",
       "    </tr>\n",
       "    <tr>\n",
       "      <th>36904</th>\n",
       "      <td>NaN</td>\n",
       "      <td>NaN</td>\n",
       "      <td>NaN</td>\n",
       "      <td>NaN</td>\n",
       "      <td>NaN</td>\n",
       "      <td>NaN</td>\n",
       "      <td>NaN</td>\n",
       "    </tr>\n",
       "  </tbody>\n",
       "</table>\n",
       "<p>36905 rows × 7 columns</p>\n",
       "</div>"
      ],
      "text/plain": [
       "       review_scores_rating  review_scores_accuracy  \\\n",
       "0                      94.0                     9.0   \n",
       "1                      89.0                    10.0   \n",
       "2                      90.0                     8.0   \n",
       "3                      97.0                    10.0   \n",
       "4                      84.0                     9.0   \n",
       "...                     ...                     ...   \n",
       "36900                   NaN                     NaN   \n",
       "36901                   NaN                     NaN   \n",
       "36902                   NaN                     NaN   \n",
       "36903                   NaN                     NaN   \n",
       "36904                   NaN                     NaN   \n",
       "\n",
       "       review_scores_cleanliness  review_scores_checkin  \\\n",
       "0                            9.0                   10.0   \n",
       "1                            9.0                    9.0   \n",
       "2                            8.0                   10.0   \n",
       "3                           10.0                   10.0   \n",
       "4                            8.0                    9.0   \n",
       "...                          ...                    ...   \n",
       "36900                        NaN                    NaN   \n",
       "36901                        NaN                    NaN   \n",
       "36902                        NaN                    NaN   \n",
       "36903                        NaN                    NaN   \n",
       "36904                        NaN                    NaN   \n",
       "\n",
       "       review_scores_communication  review_scores_location  \\\n",
       "0                             10.0                    10.0   \n",
       "1                             10.0                    10.0   \n",
       "2                             10.0                     9.0   \n",
       "3                             10.0                     8.0   \n",
       "4                              9.0                    10.0   \n",
       "...                            ...                     ...   \n",
       "36900                          NaN                     NaN   \n",
       "36901                          NaN                     NaN   \n",
       "36902                          NaN                     NaN   \n",
       "36903                          NaN                     NaN   \n",
       "36904                          NaN                     NaN   \n",
       "\n",
       "       review_scores_value  \n",
       "0                      9.0  \n",
       "1                     10.0  \n",
       "2                      9.0  \n",
       "3                     10.0  \n",
       "4                      9.0  \n",
       "...                    ...  \n",
       "36900                  NaN  \n",
       "36901                  NaN  \n",
       "36902                  NaN  \n",
       "36903                  NaN  \n",
       "36904                  NaN  \n",
       "\n",
       "[36905 rows x 7 columns]"
      ]
     },
     "execution_count": 6,
     "metadata": {},
     "output_type": "execute_result"
    },
    {
     "data": {
      "application/javascript": [
       "\n",
       "            setTimeout(function() {\n",
       "                var nbb_cell_id = 6;\n",
       "                var nbb_unformatted_code = \"category_df_nyc\";\n",
       "                var nbb_formatted_code = \"category_df_nyc\";\n",
       "                var nbb_cells = Jupyter.notebook.get_cells();\n",
       "                for (var i = 0; i < nbb_cells.length; ++i) {\n",
       "                    if (nbb_cells[i].input_prompt_number == nbb_cell_id) {\n",
       "                        if (nbb_cells[i].get_text() == nbb_unformatted_code) {\n",
       "                             nbb_cells[i].set_text(nbb_formatted_code);\n",
       "                        }\n",
       "                        break;\n",
       "                    }\n",
       "                }\n",
       "            }, 500);\n",
       "            "
      ],
      "text/plain": [
       "<IPython.core.display.Javascript object>"
      ]
     },
     "metadata": {},
     "output_type": "display_data"
    }
   ],
   "source": [
    "category_df_nyc"
   ]
  },
  {
   "cell_type": "code",
   "execution_count": 7,
   "metadata": {},
   "outputs": [
    {
     "data": {
      "application/javascript": [
       "\n",
       "            setTimeout(function() {\n",
       "                var nbb_cell_id = 7;\n",
       "                var nbb_unformatted_code = \"# Drop nans\\ncategory_df_sf = category_df_sf.dropna(axis = 0)\\ncategory_df_sea = category_df_sea.dropna(axis = 0)\\ncategory_df_nyc = category_df_nyc.dropna(axis = 0)\";\n",
       "                var nbb_formatted_code = \"# Drop nans\\ncategory_df_sf = category_df_sf.dropna(axis=0)\\ncategory_df_sea = category_df_sea.dropna(axis=0)\\ncategory_df_nyc = category_df_nyc.dropna(axis=0)\";\n",
       "                var nbb_cells = Jupyter.notebook.get_cells();\n",
       "                for (var i = 0; i < nbb_cells.length; ++i) {\n",
       "                    if (nbb_cells[i].input_prompt_number == nbb_cell_id) {\n",
       "                        if (nbb_cells[i].get_text() == nbb_unformatted_code) {\n",
       "                             nbb_cells[i].set_text(nbb_formatted_code);\n",
       "                        }\n",
       "                        break;\n",
       "                    }\n",
       "                }\n",
       "            }, 500);\n",
       "            "
      ],
      "text/plain": [
       "<IPython.core.display.Javascript object>"
      ]
     },
     "metadata": {},
     "output_type": "display_data"
    }
   ],
   "source": [
    "# Drop nans\n",
    "category_df_sf = category_df_sf.dropna(axis = 0)\n",
    "category_df_sea = category_df_sea.dropna(axis = 0)\n",
    "category_df_nyc = category_df_nyc.dropna(axis = 0)"
   ]
  },
  {
   "cell_type": "code",
   "execution_count": 8,
   "metadata": {},
   "outputs": [
    {
     "data": {
      "text/html": [
       "<div>\n",
       "<style scoped>\n",
       "    .dataframe tbody tr th:only-of-type {\n",
       "        vertical-align: middle;\n",
       "    }\n",
       "\n",
       "    .dataframe tbody tr th {\n",
       "        vertical-align: top;\n",
       "    }\n",
       "\n",
       "    .dataframe thead th {\n",
       "        text-align: right;\n",
       "    }\n",
       "</style>\n",
       "<table border=\"1\" class=\"dataframe\">\n",
       "  <thead>\n",
       "    <tr style=\"text-align: right;\">\n",
       "      <th></th>\n",
       "      <th>review_scores_rating</th>\n",
       "      <th>review_scores_accuracy</th>\n",
       "      <th>review_scores_cleanliness</th>\n",
       "      <th>review_scores_checkin</th>\n",
       "      <th>review_scores_communication</th>\n",
       "      <th>review_scores_location</th>\n",
       "      <th>review_scores_value</th>\n",
       "    </tr>\n",
       "  </thead>\n",
       "  <tbody>\n",
       "    <tr>\n",
       "      <th>0</th>\n",
       "      <td>94.0</td>\n",
       "      <td>9.0</td>\n",
       "      <td>9.0</td>\n",
       "      <td>10.0</td>\n",
       "      <td>10.0</td>\n",
       "      <td>10.0</td>\n",
       "      <td>9.0</td>\n",
       "    </tr>\n",
       "    <tr>\n",
       "      <th>1</th>\n",
       "      <td>89.0</td>\n",
       "      <td>10.0</td>\n",
       "      <td>9.0</td>\n",
       "      <td>9.0</td>\n",
       "      <td>10.0</td>\n",
       "      <td>10.0</td>\n",
       "      <td>10.0</td>\n",
       "    </tr>\n",
       "    <tr>\n",
       "      <th>2</th>\n",
       "      <td>90.0</td>\n",
       "      <td>8.0</td>\n",
       "      <td>8.0</td>\n",
       "      <td>10.0</td>\n",
       "      <td>10.0</td>\n",
       "      <td>9.0</td>\n",
       "      <td>9.0</td>\n",
       "    </tr>\n",
       "    <tr>\n",
       "      <th>3</th>\n",
       "      <td>97.0</td>\n",
       "      <td>10.0</td>\n",
       "      <td>10.0</td>\n",
       "      <td>10.0</td>\n",
       "      <td>10.0</td>\n",
       "      <td>8.0</td>\n",
       "      <td>10.0</td>\n",
       "    </tr>\n",
       "    <tr>\n",
       "      <th>4</th>\n",
       "      <td>84.0</td>\n",
       "      <td>9.0</td>\n",
       "      <td>8.0</td>\n",
       "      <td>9.0</td>\n",
       "      <td>9.0</td>\n",
       "      <td>10.0</td>\n",
       "      <td>9.0</td>\n",
       "    </tr>\n",
       "    <tr>\n",
       "      <th>...</th>\n",
       "      <td>...</td>\n",
       "      <td>...</td>\n",
       "      <td>...</td>\n",
       "      <td>...</td>\n",
       "      <td>...</td>\n",
       "      <td>...</td>\n",
       "      <td>...</td>\n",
       "    </tr>\n",
       "    <tr>\n",
       "      <th>36718</th>\n",
       "      <td>100.0</td>\n",
       "      <td>10.0</td>\n",
       "      <td>10.0</td>\n",
       "      <td>10.0</td>\n",
       "      <td>10.0</td>\n",
       "      <td>10.0</td>\n",
       "      <td>10.0</td>\n",
       "    </tr>\n",
       "    <tr>\n",
       "      <th>36759</th>\n",
       "      <td>100.0</td>\n",
       "      <td>10.0</td>\n",
       "      <td>10.0</td>\n",
       "      <td>10.0</td>\n",
       "      <td>10.0</td>\n",
       "      <td>10.0</td>\n",
       "      <td>10.0</td>\n",
       "    </tr>\n",
       "    <tr>\n",
       "      <th>36766</th>\n",
       "      <td>60.0</td>\n",
       "      <td>10.0</td>\n",
       "      <td>10.0</td>\n",
       "      <td>2.0</td>\n",
       "      <td>10.0</td>\n",
       "      <td>8.0</td>\n",
       "      <td>8.0</td>\n",
       "    </tr>\n",
       "    <tr>\n",
       "      <th>36783</th>\n",
       "      <td>100.0</td>\n",
       "      <td>10.0</td>\n",
       "      <td>10.0</td>\n",
       "      <td>10.0</td>\n",
       "      <td>10.0</td>\n",
       "      <td>10.0</td>\n",
       "      <td>10.0</td>\n",
       "    </tr>\n",
       "    <tr>\n",
       "      <th>36803</th>\n",
       "      <td>100.0</td>\n",
       "      <td>10.0</td>\n",
       "      <td>10.0</td>\n",
       "      <td>10.0</td>\n",
       "      <td>10.0</td>\n",
       "      <td>10.0</td>\n",
       "      <td>10.0</td>\n",
       "    </tr>\n",
       "  </tbody>\n",
       "</table>\n",
       "<p>26445 rows × 7 columns</p>\n",
       "</div>"
      ],
      "text/plain": [
       "       review_scores_rating  review_scores_accuracy  \\\n",
       "0                      94.0                     9.0   \n",
       "1                      89.0                    10.0   \n",
       "2                      90.0                     8.0   \n",
       "3                      97.0                    10.0   \n",
       "4                      84.0                     9.0   \n",
       "...                     ...                     ...   \n",
       "36718                 100.0                    10.0   \n",
       "36759                 100.0                    10.0   \n",
       "36766                  60.0                    10.0   \n",
       "36783                 100.0                    10.0   \n",
       "36803                 100.0                    10.0   \n",
       "\n",
       "       review_scores_cleanliness  review_scores_checkin  \\\n",
       "0                            9.0                   10.0   \n",
       "1                            9.0                    9.0   \n",
       "2                            8.0                   10.0   \n",
       "3                           10.0                   10.0   \n",
       "4                            8.0                    9.0   \n",
       "...                          ...                    ...   \n",
       "36718                       10.0                   10.0   \n",
       "36759                       10.0                   10.0   \n",
       "36766                       10.0                    2.0   \n",
       "36783                       10.0                   10.0   \n",
       "36803                       10.0                   10.0   \n",
       "\n",
       "       review_scores_communication  review_scores_location  \\\n",
       "0                             10.0                    10.0   \n",
       "1                             10.0                    10.0   \n",
       "2                             10.0                     9.0   \n",
       "3                             10.0                     8.0   \n",
       "4                              9.0                    10.0   \n",
       "...                            ...                     ...   \n",
       "36718                         10.0                    10.0   \n",
       "36759                         10.0                    10.0   \n",
       "36766                         10.0                     8.0   \n",
       "36783                         10.0                    10.0   \n",
       "36803                         10.0                    10.0   \n",
       "\n",
       "       review_scores_value  \n",
       "0                      9.0  \n",
       "1                     10.0  \n",
       "2                      9.0  \n",
       "3                     10.0  \n",
       "4                      9.0  \n",
       "...                    ...  \n",
       "36718                 10.0  \n",
       "36759                 10.0  \n",
       "36766                  8.0  \n",
       "36783                 10.0  \n",
       "36803                 10.0  \n",
       "\n",
       "[26445 rows x 7 columns]"
      ]
     },
     "execution_count": 8,
     "metadata": {},
     "output_type": "execute_result"
    },
    {
     "data": {
      "application/javascript": [
       "\n",
       "            setTimeout(function() {\n",
       "                var nbb_cell_id = 8;\n",
       "                var nbb_unformatted_code = \"category_df_nyc\";\n",
       "                var nbb_formatted_code = \"category_df_nyc\";\n",
       "                var nbb_cells = Jupyter.notebook.get_cells();\n",
       "                for (var i = 0; i < nbb_cells.length; ++i) {\n",
       "                    if (nbb_cells[i].input_prompt_number == nbb_cell_id) {\n",
       "                        if (nbb_cells[i].get_text() == nbb_unformatted_code) {\n",
       "                             nbb_cells[i].set_text(nbb_formatted_code);\n",
       "                        }\n",
       "                        break;\n",
       "                    }\n",
       "                }\n",
       "            }, 500);\n",
       "            "
      ],
      "text/plain": [
       "<IPython.core.display.Javascript object>"
      ]
     },
     "metadata": {},
     "output_type": "display_data"
    }
   ],
   "source": [
    "category_df_nyc"
   ]
  },
  {
   "cell_type": "code",
   "execution_count": 9,
   "metadata": {},
   "outputs": [
    {
     "data": {
      "application/javascript": [
       "\n",
       "            setTimeout(function() {\n",
       "                var nbb_cell_id = 9;\n",
       "                var nbb_unformatted_code = \"# combining 3 cities together\\ncategory_df_combined = category_df_sf.append([category_df_sea,category_df_nyc],ignore_index=True)\";\n",
       "                var nbb_formatted_code = \"# combining 3 cities together\\ncategory_df_combined = category_df_sf.append(\\n    [category_df_sea, category_df_nyc], ignore_index=True\\n)\";\n",
       "                var nbb_cells = Jupyter.notebook.get_cells();\n",
       "                for (var i = 0; i < nbb_cells.length; ++i) {\n",
       "                    if (nbb_cells[i].input_prompt_number == nbb_cell_id) {\n",
       "                        if (nbb_cells[i].get_text() == nbb_unformatted_code) {\n",
       "                             nbb_cells[i].set_text(nbb_formatted_code);\n",
       "                        }\n",
       "                        break;\n",
       "                    }\n",
       "                }\n",
       "            }, 500);\n",
       "            "
      ],
      "text/plain": [
       "<IPython.core.display.Javascript object>"
      ]
     },
     "metadata": {},
     "output_type": "display_data"
    }
   ],
   "source": [
    "# combining 3 cities together\n",
    "category_df_combined = category_df_sf.append([category_df_sea,category_df_nyc],ignore_index=True)"
   ]
  },
  {
   "cell_type": "code",
   "execution_count": 10,
   "metadata": {},
   "outputs": [
    {
     "data": {
      "text/html": [
       "<div>\n",
       "<style scoped>\n",
       "    .dataframe tbody tr th:only-of-type {\n",
       "        vertical-align: middle;\n",
       "    }\n",
       "\n",
       "    .dataframe tbody tr th {\n",
       "        vertical-align: top;\n",
       "    }\n",
       "\n",
       "    .dataframe thead th {\n",
       "        text-align: right;\n",
       "    }\n",
       "</style>\n",
       "<table border=\"1\" class=\"dataframe\">\n",
       "  <thead>\n",
       "    <tr style=\"text-align: right;\">\n",
       "      <th></th>\n",
       "      <th>review_scores_rating</th>\n",
       "      <th>review_scores_accuracy</th>\n",
       "      <th>review_scores_cleanliness</th>\n",
       "      <th>review_scores_checkin</th>\n",
       "      <th>review_scores_communication</th>\n",
       "      <th>review_scores_location</th>\n",
       "      <th>review_scores_value</th>\n",
       "    </tr>\n",
       "  </thead>\n",
       "  <tbody>\n",
       "    <tr>\n",
       "      <th>0</th>\n",
       "      <td>97.0</td>\n",
       "      <td>10.0</td>\n",
       "      <td>10.0</td>\n",
       "      <td>10.0</td>\n",
       "      <td>10.0</td>\n",
       "      <td>10.0</td>\n",
       "      <td>10.0</td>\n",
       "    </tr>\n",
       "    <tr>\n",
       "      <th>1</th>\n",
       "      <td>98.0</td>\n",
       "      <td>10.0</td>\n",
       "      <td>10.0</td>\n",
       "      <td>10.0</td>\n",
       "      <td>10.0</td>\n",
       "      <td>10.0</td>\n",
       "      <td>9.0</td>\n",
       "    </tr>\n",
       "    <tr>\n",
       "      <th>2</th>\n",
       "      <td>84.0</td>\n",
       "      <td>7.0</td>\n",
       "      <td>8.0</td>\n",
       "      <td>9.0</td>\n",
       "      <td>9.0</td>\n",
       "      <td>9.0</td>\n",
       "      <td>8.0</td>\n",
       "    </tr>\n",
       "    <tr>\n",
       "      <th>3</th>\n",
       "      <td>93.0</td>\n",
       "      <td>9.0</td>\n",
       "      <td>9.0</td>\n",
       "      <td>10.0</td>\n",
       "      <td>10.0</td>\n",
       "      <td>9.0</td>\n",
       "      <td>9.0</td>\n",
       "    </tr>\n",
       "    <tr>\n",
       "      <th>4</th>\n",
       "      <td>97.0</td>\n",
       "      <td>10.0</td>\n",
       "      <td>10.0</td>\n",
       "      <td>10.0</td>\n",
       "      <td>10.0</td>\n",
       "      <td>10.0</td>\n",
       "      <td>10.0</td>\n",
       "    </tr>\n",
       "    <tr>\n",
       "      <th>...</th>\n",
       "      <td>...</td>\n",
       "      <td>...</td>\n",
       "      <td>...</td>\n",
       "      <td>...</td>\n",
       "      <td>...</td>\n",
       "      <td>...</td>\n",
       "      <td>...</td>\n",
       "    </tr>\n",
       "    <tr>\n",
       "      <th>34825</th>\n",
       "      <td>100.0</td>\n",
       "      <td>10.0</td>\n",
       "      <td>10.0</td>\n",
       "      <td>10.0</td>\n",
       "      <td>10.0</td>\n",
       "      <td>10.0</td>\n",
       "      <td>10.0</td>\n",
       "    </tr>\n",
       "    <tr>\n",
       "      <th>34826</th>\n",
       "      <td>100.0</td>\n",
       "      <td>10.0</td>\n",
       "      <td>10.0</td>\n",
       "      <td>10.0</td>\n",
       "      <td>10.0</td>\n",
       "      <td>10.0</td>\n",
       "      <td>10.0</td>\n",
       "    </tr>\n",
       "    <tr>\n",
       "      <th>34827</th>\n",
       "      <td>60.0</td>\n",
       "      <td>10.0</td>\n",
       "      <td>10.0</td>\n",
       "      <td>2.0</td>\n",
       "      <td>10.0</td>\n",
       "      <td>8.0</td>\n",
       "      <td>8.0</td>\n",
       "    </tr>\n",
       "    <tr>\n",
       "      <th>34828</th>\n",
       "      <td>100.0</td>\n",
       "      <td>10.0</td>\n",
       "      <td>10.0</td>\n",
       "      <td>10.0</td>\n",
       "      <td>10.0</td>\n",
       "      <td>10.0</td>\n",
       "      <td>10.0</td>\n",
       "    </tr>\n",
       "    <tr>\n",
       "      <th>34829</th>\n",
       "      <td>100.0</td>\n",
       "      <td>10.0</td>\n",
       "      <td>10.0</td>\n",
       "      <td>10.0</td>\n",
       "      <td>10.0</td>\n",
       "      <td>10.0</td>\n",
       "      <td>10.0</td>\n",
       "    </tr>\n",
       "  </tbody>\n",
       "</table>\n",
       "<p>34830 rows × 7 columns</p>\n",
       "</div>"
      ],
      "text/plain": [
       "       review_scores_rating  review_scores_accuracy  \\\n",
       "0                      97.0                    10.0   \n",
       "1                      98.0                    10.0   \n",
       "2                      84.0                     7.0   \n",
       "3                      93.0                     9.0   \n",
       "4                      97.0                    10.0   \n",
       "...                     ...                     ...   \n",
       "34825                 100.0                    10.0   \n",
       "34826                 100.0                    10.0   \n",
       "34827                  60.0                    10.0   \n",
       "34828                 100.0                    10.0   \n",
       "34829                 100.0                    10.0   \n",
       "\n",
       "       review_scores_cleanliness  review_scores_checkin  \\\n",
       "0                           10.0                   10.0   \n",
       "1                           10.0                   10.0   \n",
       "2                            8.0                    9.0   \n",
       "3                            9.0                   10.0   \n",
       "4                           10.0                   10.0   \n",
       "...                          ...                    ...   \n",
       "34825                       10.0                   10.0   \n",
       "34826                       10.0                   10.0   \n",
       "34827                       10.0                    2.0   \n",
       "34828                       10.0                   10.0   \n",
       "34829                       10.0                   10.0   \n",
       "\n",
       "       review_scores_communication  review_scores_location  \\\n",
       "0                             10.0                    10.0   \n",
       "1                             10.0                    10.0   \n",
       "2                              9.0                     9.0   \n",
       "3                             10.0                     9.0   \n",
       "4                             10.0                    10.0   \n",
       "...                            ...                     ...   \n",
       "34825                         10.0                    10.0   \n",
       "34826                         10.0                    10.0   \n",
       "34827                         10.0                     8.0   \n",
       "34828                         10.0                    10.0   \n",
       "34829                         10.0                    10.0   \n",
       "\n",
       "       review_scores_value  \n",
       "0                     10.0  \n",
       "1                      9.0  \n",
       "2                      8.0  \n",
       "3                      9.0  \n",
       "4                     10.0  \n",
       "...                    ...  \n",
       "34825                 10.0  \n",
       "34826                 10.0  \n",
       "34827                  8.0  \n",
       "34828                 10.0  \n",
       "34829                 10.0  \n",
       "\n",
       "[34830 rows x 7 columns]"
      ]
     },
     "execution_count": 10,
     "metadata": {},
     "output_type": "execute_result"
    },
    {
     "data": {
      "application/javascript": [
       "\n",
       "            setTimeout(function() {\n",
       "                var nbb_cell_id = 10;\n",
       "                var nbb_unformatted_code = \"category_df_combined\";\n",
       "                var nbb_formatted_code = \"category_df_combined\";\n",
       "                var nbb_cells = Jupyter.notebook.get_cells();\n",
       "                for (var i = 0; i < nbb_cells.length; ++i) {\n",
       "                    if (nbb_cells[i].input_prompt_number == nbb_cell_id) {\n",
       "                        if (nbb_cells[i].get_text() == nbb_unformatted_code) {\n",
       "                             nbb_cells[i].set_text(nbb_formatted_code);\n",
       "                        }\n",
       "                        break;\n",
       "                    }\n",
       "                }\n",
       "            }, 500);\n",
       "            "
      ],
      "text/plain": [
       "<IPython.core.display.Javascript object>"
      ]
     },
     "metadata": {},
     "output_type": "display_data"
    }
   ],
   "source": [
    "category_df_combined"
   ]
  },
  {
   "cell_type": "markdown",
   "metadata": {},
   "source": [
    "# Fitting data to models"
   ]
  },
  {
   "cell_type": "code",
   "execution_count": 11,
   "metadata": {},
   "outputs": [
    {
     "data": {
      "application/javascript": [
       "\n",
       "            setTimeout(function() {\n",
       "                var nbb_cell_id = 11;\n",
       "                var nbb_unformatted_code = \"category_list = ['accuracy','cleanliness','checkin','communication','location','value']\";\n",
       "                var nbb_formatted_code = \"category_list = [\\n    \\\"accuracy\\\",\\n    \\\"cleanliness\\\",\\n    \\\"checkin\\\",\\n    \\\"communication\\\",\\n    \\\"location\\\",\\n    \\\"value\\\",\\n]\";\n",
       "                var nbb_cells = Jupyter.notebook.get_cells();\n",
       "                for (var i = 0; i < nbb_cells.length; ++i) {\n",
       "                    if (nbb_cells[i].input_prompt_number == nbb_cell_id) {\n",
       "                        if (nbb_cells[i].get_text() == nbb_unformatted_code) {\n",
       "                             nbb_cells[i].set_text(nbb_formatted_code);\n",
       "                        }\n",
       "                        break;\n",
       "                    }\n",
       "                }\n",
       "            }, 500);\n",
       "            "
      ],
      "text/plain": [
       "<IPython.core.display.Javascript object>"
      ]
     },
     "metadata": {},
     "output_type": "display_data"
    }
   ],
   "source": [
    "category_list = ['accuracy','cleanliness','checkin','communication','location','value']"
   ]
  },
  {
   "cell_type": "code",
   "execution_count": 14,
   "metadata": {},
   "outputs": [
    {
     "data": {
      "application/javascript": [
       "\n",
       "            setTimeout(function() {\n",
       "                var nbb_cell_id = 14;\n",
       "                var nbb_unformatted_code = \"def get_r2_score(X,y):\\n    # define the model\\n    model = LinearRegression()\\n\\n    # fit the model\\n    model.fit(X, y)\\n\\n    # get importance\\n    importance = model.coef_\\n\\n    # coefficient of determination\\n    r_sq = model.score(X, y)\\n    return r_sq\";\n",
       "                var nbb_formatted_code = \"def get_r2_score(X, y):\\n    # define the model\\n    model = LinearRegression()\\n\\n    # fit the model\\n    model.fit(X, y)\\n\\n    # get importance\\n    importance = model.coef_\\n\\n    # coefficient of determination\\n    r_sq = model.score(X, y)\\n    return r_sq\";\n",
       "                var nbb_cells = Jupyter.notebook.get_cells();\n",
       "                for (var i = 0; i < nbb_cells.length; ++i) {\n",
       "                    if (nbb_cells[i].input_prompt_number == nbb_cell_id) {\n",
       "                        if (nbb_cells[i].get_text() == nbb_unformatted_code) {\n",
       "                             nbb_cells[i].set_text(nbb_formatted_code);\n",
       "                        }\n",
       "                        break;\n",
       "                    }\n",
       "                }\n",
       "            }, 500);\n",
       "            "
      ],
      "text/plain": [
       "<IPython.core.display.Javascript object>"
      ]
     },
     "metadata": {},
     "output_type": "display_data"
    }
   ],
   "source": [
    "def get_r2_score(X,y):\n",
    "    # define the model\n",
    "    model = LinearRegression()\n",
    "\n",
    "    # fit the model\n",
    "    model.fit(X, y)\n",
    "\n",
    "    # get importance\n",
    "    importance = model.coef_\n",
    "\n",
    "    # coefficient of determination\n",
    "    r_sq = model.score(X, y)\n",
    "    return r_sq"
   ]
  },
  {
   "cell_type": "code",
   "execution_count": 17,
   "metadata": {},
   "outputs": [
    {
     "name": "stdout",
     "output_type": "stream",
     "text": [
      "sf_r2: 0.7141217811256346\n",
      "seattle_r2: 0.7915137391416954\n",
      "nyc_r2: 0.7976129230910798\n",
      "combined_r2: 0.7879129819737622\n"
     ]
    },
    {
     "data": {
      "application/javascript": [
       "\n",
       "            setTimeout(function() {\n",
       "                var nbb_cell_id = 17;\n",
       "                var nbb_unformatted_code = \"X = category_df_sf[['review_scores_accuracy','review_scores_cleanliness','review_scores_checkin','review_scores_communication','review_scores_location','review_scores_value']]\\ny = category_df_sf['review_scores_rating']\\nprint('sf_r2:', get_r2_score(X,y))\\n\\nX = category_df_sea[['review_scores_accuracy','review_scores_cleanliness','review_scores_checkin','review_scores_communication','review_scores_location','review_scores_value']]\\ny = category_df_sea['review_scores_rating']\\nprint('seattle_r2:', get_r2_score(X,y))\\n\\nX = category_df_nyc[['review_scores_accuracy','review_scores_cleanliness','review_scores_checkin','review_scores_communication','review_scores_location','review_scores_value']]\\ny = category_df_nyc['review_scores_rating']\\nprint('nyc_r2:', get_r2_score(X,y))\\n\\nX = category_df_combined[['review_scores_accuracy','review_scores_cleanliness','review_scores_checkin','review_scores_communication','review_scores_location','review_scores_value']]\\ny = category_df_combined['review_scores_rating']\\nprint('combined_r2:', get_r2_score(X,y))\";\n",
       "                var nbb_formatted_code = \"X = category_df_sf[\\n    [\\n        \\\"review_scores_accuracy\\\",\\n        \\\"review_scores_cleanliness\\\",\\n        \\\"review_scores_checkin\\\",\\n        \\\"review_scores_communication\\\",\\n        \\\"review_scores_location\\\",\\n        \\\"review_scores_value\\\",\\n    ]\\n]\\ny = category_df_sf[\\\"review_scores_rating\\\"]\\nprint(\\\"sf_r2:\\\", get_r2_score(X, y))\\n\\nX = category_df_sea[\\n    [\\n        \\\"review_scores_accuracy\\\",\\n        \\\"review_scores_cleanliness\\\",\\n        \\\"review_scores_checkin\\\",\\n        \\\"review_scores_communication\\\",\\n        \\\"review_scores_location\\\",\\n        \\\"review_scores_value\\\",\\n    ]\\n]\\ny = category_df_sea[\\\"review_scores_rating\\\"]\\nprint(\\\"seattle_r2:\\\", get_r2_score(X, y))\\n\\nX = category_df_nyc[\\n    [\\n        \\\"review_scores_accuracy\\\",\\n        \\\"review_scores_cleanliness\\\",\\n        \\\"review_scores_checkin\\\",\\n        \\\"review_scores_communication\\\",\\n        \\\"review_scores_location\\\",\\n        \\\"review_scores_value\\\",\\n    ]\\n]\\ny = category_df_nyc[\\\"review_scores_rating\\\"]\\nprint(\\\"nyc_r2:\\\", get_r2_score(X, y))\\n\\nX = category_df_combined[\\n    [\\n        \\\"review_scores_accuracy\\\",\\n        \\\"review_scores_cleanliness\\\",\\n        \\\"review_scores_checkin\\\",\\n        \\\"review_scores_communication\\\",\\n        \\\"review_scores_location\\\",\\n        \\\"review_scores_value\\\",\\n    ]\\n]\\ny = category_df_combined[\\\"review_scores_rating\\\"]\\nprint(\\\"combined_r2:\\\", get_r2_score(X, y))\";\n",
       "                var nbb_cells = Jupyter.notebook.get_cells();\n",
       "                for (var i = 0; i < nbb_cells.length; ++i) {\n",
       "                    if (nbb_cells[i].input_prompt_number == nbb_cell_id) {\n",
       "                        if (nbb_cells[i].get_text() == nbb_unformatted_code) {\n",
       "                             nbb_cells[i].set_text(nbb_formatted_code);\n",
       "                        }\n",
       "                        break;\n",
       "                    }\n",
       "                }\n",
       "            }, 500);\n",
       "            "
      ],
      "text/plain": [
       "<IPython.core.display.Javascript object>"
      ]
     },
     "metadata": {},
     "output_type": "display_data"
    }
   ],
   "source": [
    "X = category_df_sf[['review_scores_accuracy','review_scores_cleanliness','review_scores_checkin','review_scores_communication','review_scores_location','review_scores_value']]\n",
    "y = category_df_sf['review_scores_rating']\n",
    "print('sf_r2:', get_r2_score(X,y))\n",
    "\n",
    "X = category_df_sea[['review_scores_accuracy','review_scores_cleanliness','review_scores_checkin','review_scores_communication','review_scores_location','review_scores_value']]\n",
    "y = category_df_sea['review_scores_rating']\n",
    "print('seattle_r2:', get_r2_score(X,y))\n",
    "\n",
    "X = category_df_nyc[['review_scores_accuracy','review_scores_cleanliness','review_scores_checkin','review_scores_communication','review_scores_location','review_scores_value']]\n",
    "y = category_df_nyc['review_scores_rating']\n",
    "print('nyc_r2:', get_r2_score(X,y))\n",
    "\n",
    "X = category_df_combined[['review_scores_accuracy','review_scores_cleanliness','review_scores_checkin','review_scores_communication','review_scores_location','review_scores_value']]\n",
    "y = category_df_combined['review_scores_rating']\n",
    "print('combined_r2:', get_r2_score(X,y))"
   ]
  },
  {
   "cell_type": "markdown",
   "metadata": {},
   "source": [
    "The coefficient of determination (R^2) tells us the amount of variation in y can be explained by the dependence on x using the linear regression model. If the value of coefficient of determination is 1, it indicates a perfect fit. A value closer to 1 indicates a better fit and means that the model can explain the variation of the output with different inputs. \n",
    "\n",
    "In other words, the 6 category ratings explain about 79% of the overall score in San Francisco, Seattle, and New York. It isn't a bad score but there's still 21% that's missing. It also does not mean that overall score is calculated using category ratings. This only means that category ratings help explain 79% of the overall score."
   ]
  },
  {
   "cell_type": "code",
   "execution_count": 26,
   "metadata": {},
   "outputs": [
    {
     "data": {
      "application/javascript": [
       "\n",
       "            setTimeout(function() {\n",
       "                var nbb_cell_id = 26;\n",
       "                var nbb_unformatted_code = \"def plot_importance(df,title):\\n    # define the model\\n    model = LinearRegression()\\n    \\n    X = df[['review_scores_accuracy','review_scores_cleanliness','review_scores_checkin','review_scores_communication','review_scores_location','review_scores_value']]\\n    y = df['review_scores_rating']\\n    \\n    # fit the model\\n    model.fit(X, y)\\n\\n    # get importance\\n    importance = model.coef_\\n    \\n    # plot feature importance\\n    pyplot.figure(figsize=(8,5))\\n    pyplot.bar([x for x in category_list], importance)\\n    pyplot.title(title)\\n    return pyplot.show()\";\n",
       "                var nbb_formatted_code = \"def plot_importance(df, title):\\n    # define the model\\n    model = LinearRegression()\\n\\n    X = df[\\n        [\\n            \\\"review_scores_accuracy\\\",\\n            \\\"review_scores_cleanliness\\\",\\n            \\\"review_scores_checkin\\\",\\n            \\\"review_scores_communication\\\",\\n            \\\"review_scores_location\\\",\\n            \\\"review_scores_value\\\",\\n        ]\\n    ]\\n    y = df[\\\"review_scores_rating\\\"]\\n\\n    # fit the model\\n    model.fit(X, y)\\n\\n    # get importance\\n    importance = model.coef_\\n\\n    # plot feature importance\\n    pyplot.figure(figsize=(8, 5))\\n    pyplot.bar([x for x in category_list], importance)\\n    pyplot.title(title)\\n    return pyplot.show()\";\n",
       "                var nbb_cells = Jupyter.notebook.get_cells();\n",
       "                for (var i = 0; i < nbb_cells.length; ++i) {\n",
       "                    if (nbb_cells[i].input_prompt_number == nbb_cell_id) {\n",
       "                        if (nbb_cells[i].get_text() == nbb_unformatted_code) {\n",
       "                             nbb_cells[i].set_text(nbb_formatted_code);\n",
       "                        }\n",
       "                        break;\n",
       "                    }\n",
       "                }\n",
       "            }, 500);\n",
       "            "
      ],
      "text/plain": [
       "<IPython.core.display.Javascript object>"
      ]
     },
     "metadata": {},
     "output_type": "display_data"
    }
   ],
   "source": [
    "def plot_importance(df,title):\n",
    "    # define the model\n",
    "    model = LinearRegression()\n",
    "    \n",
    "    X = df[['review_scores_accuracy','review_scores_cleanliness','review_scores_checkin','review_scores_communication','review_scores_location','review_scores_value']]\n",
    "    y = df['review_scores_rating']\n",
    "    \n",
    "    # fit the model\n",
    "    model.fit(X, y)\n",
    "\n",
    "    # get importance\n",
    "    importance = model.coef_\n",
    "    \n",
    "    # plot feature importance\n",
    "    pyplot.figure(figsize=(8,5))\n",
    "    pyplot.bar([x for x in category_list], importance)\n",
    "    pyplot.title(title)\n",
    "    return pyplot.show()"
   ]
  },
  {
   "cell_type": "code",
   "execution_count": 32,
   "metadata": {},
   "outputs": [
    {
     "data": {
      "image/png": "[encoded data removed]",
      "text/plain": [
       "<Figure size 576x360 with 1 Axes>"
      ]
     },
     "metadata": {
      "needs_background": "light"
     },
     "output_type": "display_data"
    },
    {
     "data": {
      "image/png": "[encoded data removed]",
      "text/plain": [
       "<Figure size 576x360 with 1 Axes>"
      ]
     },
     "metadata": {
      "needs_background": "light"
     },
     "output_type": "display_data"
    },
    {
     "data": {
      "image/png": "[encoded data removed]",
      "text/plain": [
       "<Figure size 576x360 with 1 Axes>"
      ]
     },
     "metadata": {
      "needs_background": "light"
     },
     "output_type": "display_data"
    },
    {
     "data": {
      "image/png": "[encoded data removed]",
      "text/plain": [
       "<Figure size 576x360 with 1 Axes>"
      ]
     },
     "metadata": {
      "needs_background": "light"
     },
     "output_type": "display_data"
    },
    {
     "data": {
      "application/javascript": [
       "\n",
       "            setTimeout(function() {\n",
       "                var nbb_cell_id = 32;\n",
       "                var nbb_unformatted_code = \"plot_importance(category_df_sf,'SF')\\nplot_importance(category_df_sea, 'Seattle')\\nplot_importance(category_df_nyc,'NYC')\\nplot_importance(category_df_combined,'Combined')\";\n",
       "                var nbb_formatted_code = \"plot_importance(category_df_sf, \\\"SF\\\")\\nplot_importance(category_df_sea, \\\"Seattle\\\")\\nplot_importance(category_df_nyc, \\\"NYC\\\")\\nplot_importance(category_df_combined, \\\"Combined\\\")\";\n",
       "                var nbb_cells = Jupyter.notebook.get_cells();\n",
       "                for (var i = 0; i < nbb_cells.length; ++i) {\n",
       "                    if (nbb_cells[i].input_prompt_number == nbb_cell_id) {\n",
       "                        if (nbb_cells[i].get_text() == nbb_unformatted_code) {\n",
       "                             nbb_cells[i].set_text(nbb_formatted_code);\n",
       "                        }\n",
       "                        break;\n",
       "                    }\n",
       "                }\n",
       "            }, 500);\n",
       "            "
      ],
      "text/plain": [
       "<IPython.core.display.Javascript object>"
      ]
     },
     "metadata": {},
     "output_type": "display_data"
    }
   ],
   "source": [
    "plot_importance(category_df_sf,'SF')\n",
    "plot_importance(category_df_sea, 'Seattle')\n",
    "plot_importance(category_df_nyc,'NYC')\n",
    "plot_importance(category_df_combined,'Combined')"
   ]
  },
  {
   "cell_type": "code",
   "execution_count": 16,
   "metadata": {
    "collapsed": true,
    "jupyter": {
     "outputs_hidden": true,
     "source_hidden": true
    },
    "tags": []
   },
   "outputs": [
    {
     "name": "stdout",
     "output_type": "stream",
     "text": [
      "[0.1593591  0.2487275  0.09646743 0.11390822 0.12622335 0.2553144 ]\n"
     ]
    },
    {
     "data": {
      "image/png": "[encoded data removed]",
      "text/plain": [
       "<Figure size 432x288 with 1 Axes>"
      ]
     },
     "metadata": {
      "needs_background": "light"
     },
     "output_type": "display_data"
    },
    {
     "data": {
      "application/javascript": [
       "\n",
       "            setTimeout(function() {\n",
       "                var nbb_cell_id = 16;\n",
       "                var nbb_unformatted_code = \"# use tree based classifiers to get feature importance\\nmodel = ExtraTreesClassifier()\\nmodel.fit(X,y)\\nprint(model.feature_importances_) \\n\\n# plot graph of feature importances\\nfeat_importances = pd.Series(model.feature_importances_, index=X.columns)\\nfeat_importances.nlargest(6).plot(kind='barh')\\npyplot.show()\";\n",
       "                var nbb_formatted_code = \"# use tree based classifiers to get feature importance\\nmodel = ExtraTreesClassifier()\\nmodel.fit(X, y)\\nprint(model.feature_importances_)\\n\\n# plot graph of feature importances\\nfeat_importances = pd.Series(model.feature_importances_, index=X.columns)\\nfeat_importances.nlargest(6).plot(kind=\\\"barh\\\")\\npyplot.show()\";\n",
       "                var nbb_cells = Jupyter.notebook.get_cells();\n",
       "                for (var i = 0; i < nbb_cells.length; ++i) {\n",
       "                    if (nbb_cells[i].input_prompt_number == nbb_cell_id) {\n",
       "                        if (nbb_cells[i].get_text() == nbb_unformatted_code) {\n",
       "                             nbb_cells[i].set_text(nbb_formatted_code);\n",
       "                        }\n",
       "                        break;\n",
       "                    }\n",
       "                }\n",
       "            }, 500);\n",
       "            "
      ],
      "text/plain": [
       "<IPython.core.display.Javascript object>"
      ]
     },
     "metadata": {},
     "output_type": "display_data"
    }
   ],
   "source": [
    "# use tree based classifiers to get feature importance\n",
    "model = ExtraTreesClassifier()\n",
    "model.fit(X,y)\n",
    "print(model.feature_importances_) \n",
    "\n",
    "# plot graph of feature importances\n",
    "feat_importances = pd.Series(model.feature_importances_, index=X.columns)\n",
    "feat_importances.nlargest(6).plot(kind='barh')\n",
    "pyplot.show()"
   ]
  },
  {
   "cell_type": "code",
   "execution_count": 33,
   "metadata": {},
   "outputs": [
    {
     "data": {
      "application/javascript": [
       "\n",
       "            setTimeout(function() {\n",
       "                var nbb_cell_id = 33;\n",
       "                var nbb_unformatted_code = \"def kbest(df, title):\\n    \\n    # apply SelectKBest class to extract top features\\n    bestfeatures = SelectKBest(score_func=chi2, k=6)\\n    \\n    X = df[['review_scores_accuracy','review_scores_cleanliness','review_scores_checkin','review_scores_communication','review_scores_location','review_scores_value']]\\n    y = df['review_scores_rating']\\n    \\n    fit = bestfeatures.fit(X,y)\\n    dfscores = pd.DataFrame(fit.scores_)\\n    dfcolumns = pd.DataFrame(X.columns)\\n    # concat two dataframes for better visualization \\n    featureScores = pd.concat([dfcolumns,dfscores],axis=1)\\n    featureScores.columns = ['Category','Score']  #naming the dataframe columns\\n    #print(featureScores.nlargest(6,'Score'))  #print 6 best features\\n    \\n    pyplot.figure(figsize=(8,5))\\n    pyplot.title(title + ' SelectKBest')\\n    return pyplot.bar(category_list, featureScores.Score) \";\n",
       "                var nbb_formatted_code = \"def kbest(df, title):\\n\\n    # apply SelectKBest class to extract top features\\n    bestfeatures = SelectKBest(score_func=chi2, k=6)\\n\\n    X = df[\\n        [\\n            \\\"review_scores_accuracy\\\",\\n            \\\"review_scores_cleanliness\\\",\\n            \\\"review_scores_checkin\\\",\\n            \\\"review_scores_communication\\\",\\n            \\\"review_scores_location\\\",\\n            \\\"review_scores_value\\\",\\n        ]\\n    ]\\n    y = df[\\\"review_scores_rating\\\"]\\n\\n    fit = bestfeatures.fit(X, y)\\n    dfscores = pd.DataFrame(fit.scores_)\\n    dfcolumns = pd.DataFrame(X.columns)\\n    # concat two dataframes for better visualization\\n    featureScores = pd.concat([dfcolumns, dfscores], axis=1)\\n    featureScores.columns = [\\\"Category\\\", \\\"Score\\\"]  # naming the dataframe columns\\n    # print(featureScores.nlargest(6,'Score'))  #print 6 best features\\n\\n    pyplot.figure(figsize=(8, 5))\\n    pyplot.title(title + \\\" SelectKBest\\\")\\n    return pyplot.bar(category_list, featureScores.Score)\";\n",
       "                var nbb_cells = Jupyter.notebook.get_cells();\n",
       "                for (var i = 0; i < nbb_cells.length; ++i) {\n",
       "                    if (nbb_cells[i].input_prompt_number == nbb_cell_id) {\n",
       "                        if (nbb_cells[i].get_text() == nbb_unformatted_code) {\n",
       "                             nbb_cells[i].set_text(nbb_formatted_code);\n",
       "                        }\n",
       "                        break;\n",
       "                    }\n",
       "                }\n",
       "            }, 500);\n",
       "            "
      ],
      "text/plain": [
       "<IPython.core.display.Javascript object>"
      ]
     },
     "metadata": {},
     "output_type": "display_data"
    }
   ],
   "source": [
    "def kbest(df, title):\n",
    "    \n",
    "    # apply SelectKBest class to extract top features\n",
    "    bestfeatures = SelectKBest(score_func=chi2, k=6)\n",
    "    \n",
    "    X = df[['review_scores_accuracy','review_scores_cleanliness','review_scores_checkin','review_scores_communication','review_scores_location','review_scores_value']]\n",
    "    y = df['review_scores_rating']\n",
    "    \n",
    "    fit = bestfeatures.fit(X,y)\n",
    "    dfscores = pd.DataFrame(fit.scores_)\n",
    "    dfcolumns = pd.DataFrame(X.columns)\n",
    "    # concat two dataframes for better visualization \n",
    "    featureScores = pd.concat([dfcolumns,dfscores],axis=1)\n",
    "    featureScores.columns = ['Category','Score']  #naming the dataframe columns\n",
    "    #print(featureScores.nlargest(6,'Score'))  #print 6 best features\n",
    "    \n",
    "    pyplot.figure(figsize=(8,5))\n",
    "    pyplot.title(title + ' SelectKBest')\n",
    "    return pyplot.bar(category_list, featureScores.Score) "
   ]
  },
  {
   "cell_type": "code",
   "execution_count": 34,
   "metadata": {},
   "outputs": [
    {
     "data": {
      "text/plain": [
       "<BarContainer object of 6 artists>"
      ]
     },
     "execution_count": 34,
     "metadata": {},
     "output_type": "execute_result"
    },
    {
     "data": {
      "image/png": "[encoded data removed]",
      "text/plain": [
       "<Figure size 576x360 with 1 Axes>"
      ]
     },
     "metadata": {
      "needs_background": "light"
     },
     "output_type": "display_data"
    },
    {
     "data": {
      "image/png": "[encoded data removed]",
      "text/plain": [
       "<Figure size 576x360 with 1 Axes>"
      ]
     },
     "metadata": {
      "needs_background": "light"
     },
     "output_type": "display_data"
    },
    {
     "data": {
      "image/png": "[encoded data removed]",
      "text/plain": [
       "<Figure size 576x360 with 1 Axes>"
      ]
     },
     "metadata": {
      "needs_background": "light"
     },
     "output_type": "display_data"
    },
    {
     "data": {
      "image/png": "[encoded data removed]",
      "text/plain": [
       "<Figure size 576x360 with 1 Axes>"
      ]
     },
     "metadata": {
      "needs_background": "light"
     },
     "output_type": "display_data"
    },
    {
     "data": {
      "application/javascript": [
       "\n",
       "            setTimeout(function() {\n",
       "                var nbb_cell_id = 34;\n",
       "                var nbb_unformatted_code = \"kbest(category_df_sf,'SF')\\nkbest(category_df_sea, 'Seattle')\\nkbest(category_df_nyc,'NYC')\\nkbest(category_df_combined,'Combined')\";\n",
       "                var nbb_formatted_code = \"kbest(category_df_sf, \\\"SF\\\")\\nkbest(category_df_sea, \\\"Seattle\\\")\\nkbest(category_df_nyc, \\\"NYC\\\")\\nkbest(category_df_combined, \\\"Combined\\\")\";\n",
       "                var nbb_cells = Jupyter.notebook.get_cells();\n",
       "                for (var i = 0; i < nbb_cells.length; ++i) {\n",
       "                    if (nbb_cells[i].input_prompt_number == nbb_cell_id) {\n",
       "                        if (nbb_cells[i].get_text() == nbb_unformatted_code) {\n",
       "                             nbb_cells[i].set_text(nbb_formatted_code);\n",
       "                        }\n",
       "                        break;\n",
       "                    }\n",
       "                }\n",
       "            }, 500);\n",
       "            "
      ],
      "text/plain": [
       "<IPython.core.display.Javascript object>"
      ]
     },
     "metadata": {},
     "output_type": "display_data"
    }
   ],
   "source": [
    "kbest(category_df_sf,'SF')\n",
    "kbest(category_df_sea, 'Seattle')\n",
    "kbest(category_df_nyc,'NYC')\n",
    "kbest(category_df_combined,'Combined')"
   ]
  },
  {
   "cell_type": "markdown",
   "metadata": {},
   "source": [
    "# Conclusion"
   ]
  },
  {
   "cell_type": "markdown",
   "metadata": {},
   "source": [
    "Although different cities have a slightly different top three categories, we can still conclude that cleanliness, value and accuracy are the top three categories that have a strong relationship with overall ratings. "
   ]
  },
  {
   "cell_type": "markdown",
   "metadata": {
    "tags": []
   },
   "source": [
    "As shown in the above table, in the combined data of San Francisco, Seattle, New York City, cleanliness is the most important, followed by value and accuracy.\n",
    "\n",
    "Check-in is not a big factor to the overall rating. It's possible that the duration of check-in is usually quick (less than 5 mins) and hence, it has minimal effect on guests' overall staying experience. Moreover, location is the least important when it comes to overall rating. It could be most listings' location is more or less the same as guests expected. As a result, it isn't a determining category."
   ]
  },
  {
   "cell_type": "code",
   "execution_count": null,
   "metadata": {},
   "outputs": [],
   "source": []
  }
 ],
 "metadata": {
  "kernelspec": {
   "display_name": "Python 3",
   "language": "python",
   "name": "python3"
  },
  "language_info": {
   "codemirror_mode": {
    "name": "ipython",
    "version": 3
   },
   "file_extension": ".py",
   "mimetype": "text/x-python",
   "name": "python",
   "nbconvert_exporter": "python",
   "pygments_lexer": "ipython3",
   "version": "3.8.8"
  }
 },
 "nbformat": 4,
 "nbformat_minor": 4
}
